{
 "cells": [
  {
   "cell_type": "code",
   "execution_count": 32,
   "metadata": {},
   "outputs": [],
   "source": [
    "import re\n",
    "\n",
    "def Strong_Password_Detection(password):\n",
    "    length_regex = re.compile(r'.{8,}', re.VERBOSE)\n",
    "    lowercase_regex = re.compile(r'[a-z]+', re.VERBOSE)\n",
    "    uppercase_regex = re.compile(r'[A-Z]+', re.VERBOSE)\n",
    "    digit_regex = re.compile(r'[\\d]+', re.VERBOSE)\n",
    "    # Create a regex list of of the ones created above.\n",
    "    regex_list = [length_regex, lowercase_regex, uppercase_regex, digit_regex]\n",
    "    count = 0\n",
    "    for regex in regex_list:\n",
    "        \n",
    "        if regex.search(password) == None:\n",
    "            print('Sorry, your password is not strong enough')\n",
    "            break\n",
    "        else: \n",
    "            count += 1\n",
    "\n",
    "    if count==4:\n",
    "        print('Congrats. Your password is strong enough!')\n",
    "       \n"
   ]
  },
  {
   "cell_type": "code",
   "execution_count": 36,
   "metadata": {},
   "outputs": [
    {
     "name": "stdout",
     "output_type": "stream",
     "text": [
      "Congrats. Your password is strong enough!\n",
      "Sorry, your password is not strong enough\n"
     ]
    }
   ],
   "source": [
    "psw1 = \"Sfsdf89fsd6\"\n",
    "Strong_Password_Detection(psw1)\n",
    "psw2 = \"USA\"\n",
    "Strong_Password_Detection(psw2)"
   ]
  }
 ],
 "metadata": {
  "kernelspec": {
   "display_name": "Python 3.8.8 ('base')",
   "language": "python",
   "name": "python3"
  },
  "language_info": {
   "codemirror_mode": {
    "name": "ipython",
    "version": 3
   },
   "file_extension": ".py",
   "mimetype": "text/x-python",
   "name": "python",
   "nbconvert_exporter": "python",
   "pygments_lexer": "ipython3",
   "version": "3.8.8"
  },
  "orig_nbformat": 4,
  "vscode": {
   "interpreter": {
    "hash": "e3a23f12c2cb1429499839e5969ee8318b524045ad5ede214855831a40d1ec07"
   }
  }
 },
 "nbformat": 4,
 "nbformat_minor": 2
}
